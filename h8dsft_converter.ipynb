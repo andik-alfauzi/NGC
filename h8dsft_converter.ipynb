{
 "cells": [
  {
   "attachments": {},
   "cell_type": "markdown",
   "metadata": {},
   "source": [
    "# NGC 3 - 1"
   ]
  },
  {
   "cell_type": "code",
   "execution_count": 13,
   "metadata": {},
   "outputs": [
    {
     "name": "stdout",
     "output_type": "stream",
     "text": [
      "Kelvin to Celcius\n",
      "Kelvin temperature value :  373.15\n",
      "Celcius temperature value :  100.0\n",
      "----------------------------------------------------\n",
      "Celcius to Kelvin\n",
      "Celcius temperature value :  100.0\n",
      "Kelvin temperature value :  373.15\n"
     ]
    }
   ],
   "source": [
    "def KelvinToCelcius(temp):\n",
    "    temp = temp-273.15\n",
    "    return temp\n",
    "\n",
    "def CelciusToKelvin(temp):\n",
    "    temp = temp+273.15\n",
    "    return temp\n",
    "\n",
    "SuhuKelvin = float(input('Input Suhu dalam Kelvin : '))\n",
    "SuhuCalcius = float(input('Input suhu dalam Celcius : '))\n",
    "\n",
    "print('Kelvin to Celcius')\n",
    "print('Kelvin temperature value : ', SuhuKelvin)\n",
    "print('Celcius temperature value : ', KelvinToCelcius(SuhuKelvin))\n",
    "\n",
    "print('----------------------------------------------------')\n",
    "\n",
    "print('Celcius to Kelvin')\n",
    "print('Celcius temperature value : ', SuhuCalcius)\n",
    "print('Kelvin temperature value : ', CelciusToKelvin(SuhuCalcius))"
   ]
  },
  {
   "attachments": {},
   "cell_type": "markdown",
   "metadata": {},
   "source": [
    "# NGC 3 - 2"
   ]
  },
  {
   "cell_type": "code",
   "execution_count": 21,
   "metadata": {},
   "outputs": [
    {
     "name": "stdout",
     "output_type": "stream",
     "text": [
      "Calcius to Fahrenheit\n",
      "Celcius temperature value :  100\n",
      "Fahrenheit temperature value :  212.0\n",
      "-------------------------------------\n",
      "Kelvin to Fahrenheit\n",
      "Kelvin temperature value :  100\n",
      "Unknown value of parameter 'Origin'. Parameter 'Origin' must be Calcius or Kelvin\n",
      "Fahrenheit temperature value :  None\n",
      "-------------------------------------\n",
      "Reamur to Fahrenheit\n",
      "Reamur temperature value :  100\n",
      "Unknown value of parameter 'Origin'. Parameter 'Origin' must be Calcius or Kelvin\n",
      "Fahrenheit temperature value :  None\n"
     ]
    }
   ],
   "source": [
    "# Function untuk mendefinisikan perubahan dari Celcius ke Fahrenheit\n",
    "def CelciusToFahr(temp):\n",
    "\n",
    "    # Parameter 'temp' dipakai untuk nilai temperature | int atau float\n",
    "    # Return 'temp' : temperature Fahrenheit | float\n",
    "    temp = (9/5*temp) + 32\n",
    "    return temp\n",
    "\n",
    "# Function to Convert Kelvin to Celcius\n",
    "def KelvinToCelcius(temp):\n",
    "\n",
    "    # Parameter 'temp' dipakai untuk nilai temperature | int atau float\n",
    "    # Return 'temp' : temperature Fahrenheit | float\n",
    "    temp = temp-273.15\n",
    "    return temp\n",
    "\n",
    "def ConvertToFahr(temp, origin):\n",
    "\n",
    "    if origin == 'celcius':\n",
    "        temp = CelciusToFahr(temp)\n",
    "    elif origin == 'Kelvin':\n",
    "        temp = KelvinToCelcius(temp)\n",
    "        temp = CelciusToFahr(temp)\n",
    "    else:\n",
    "        temp = 'None'\n",
    "        print(\"Unknown value of parameter 'Origin'. Parameter 'Origin' must be Calcius or Kelvin\")\n",
    "    \n",
    "    return temp\n",
    "\n",
    "InputTemp = 100\n",
    "InputOrigin1 = 'celcius'\n",
    "InputOrigin2 = 'fahrenheit'\n",
    "InputOrigin3 = 'reamur'\n",
    "\n",
    "print(\"Calcius to Fahrenheit\")\n",
    "print(\"Celcius temperature value : \", InputTemp)\n",
    "print(\"Fahrenheit temperature value : \", ConvertToFahr(temp=InputTemp, origin=InputOrigin1))\n",
    "print('-------------------------------------')\n",
    "\n",
    "print('Kelvin to Fahrenheit')\n",
    "print('Kelvin temperature value : ', InputTemp)\n",
    "print('Fahrenheit temperature value : ', ConvertToFahr(temp=InputTemp, origin=InputOrigin2))\n",
    "print('-------------------------------------')\n",
    "\n",
    "print('Reamur to Fahrenheit')\n",
    "print('Reamur temperature value : ', InputTemp)\n",
    "print('Fahrenheit temperature value : ', ConvertToFahr(temp=InputTemp, origin=InputOrigin3))"
   ]
  },
  {
   "attachments": {},
   "cell_type": "markdown",
   "metadata": {},
   "source": [
    "# NGC 3 - 3"
   ]
  },
  {
   "cell_type": "code",
   "execution_count": 23,
   "metadata": {},
   "outputs": [
    {
     "name": "stdout",
     "output_type": "stream",
     "text": [
      "Fahrenheit to Celcius\n",
      "Fahrenheit temperature value =  212\n",
      "Celcius temperature value =  100.0\n",
      "---------------------------------------------------\n",
      "Fahrenheit to Kelvin\n",
      "Fahrenheit temperature value =  212\n",
      "Kelvin temperature value =  373.15\n",
      "---------------------------------------------------\n",
      "Fahrenheit to Reamur\n",
      "Fahrenheit temperature value =  212\n",
      "Unknown value or parameter `Destination`, parmeter `Destination` must be Celcius or Kelvin \n",
      "Reamur temperature value =  None\n",
      "---------------------------------------------------\n"
     ]
    }
   ],
   "source": [
    "# Function to Convert Fahrenheit to Celcius\n",
    "\n",
    "def FahrToCelcius(temp):\n",
    "    '''\n",
    "    This function is used to convert Fahrenheit to Celcius\n",
    "    :parameter 'temp' : Fahrenheit  temperature | int or float\n",
    "    :return 'temp' : Celcius temperature | float\n",
    "    '''\n",
    "    temp = (temp - 32) / (9/5)\n",
    "    return temp\n",
    "\n",
    "# Function to Convert Celcius to Kelvin\n",
    "\n",
    "def CelciusToKelvin(temp):\n",
    "    '''\n",
    "    This function is used to convert Celcius to Kelvin\n",
    "    :parameter 'temp' : Kelvin  temperature | int or float\n",
    "    :return 'temp' : Celcius temperature | float\n",
    "    '''\n",
    "    temp = temp+273.15\n",
    "    return temp\n",
    "\n",
    "\n",
    "# Function to Convert Temperature to Fahrenheit\n",
    "\n",
    "def ConvertFromFahr(temp, destination='celcius'):\n",
    "    '''\n",
    "    This function is used to convert Fahrenheit to Celcius/Kelvin.\n",
    "    \n",
    "    :param `temp` : Fahrenheit's Temperature | int or float\n",
    "    :param `dest` : Type of destination temperature (celcius or kelvin)| string\n",
    "    :return: `temp` : Celcius's/Kelvin's Temperature | float\n",
    "    '''\n",
    "    if destination == 'celcius':\n",
    "        temp = FahrToCelcius(temp)\n",
    "    elif destination == 'kelvin':\n",
    "        temp = FahrToCelcius(temp)\n",
    "        temp = CelciusToKelvin(temp)\n",
    "    else:\n",
    "        temp = 'None'\n",
    "        print('Unknown value or parameter `Destination`, parmeter `Destination` must be Celcius or Kelvin ')\n",
    "\n",
    "    return temp\n",
    "\n",
    "# Trying function\n",
    "\n",
    "temp = 212\n",
    "destination1 = 'celcius'\n",
    "destination2 = 'kelvin'\n",
    "destination3 = 'reamur'\n",
    "\n",
    "print('Fahrenheit to Celcius')\n",
    "print('Fahrenheit temperature value = ', temp)\n",
    "print('Celcius temperature value = ', ConvertFromFahr(temp=temp, destination=destination1))\n",
    "print('---------------------------------------------------')\n",
    "\n",
    "print('Fahrenheit to Kelvin')\n",
    "print('Fahrenheit temperature value = ', temp)\n",
    "print('Kelvin temperature value = ', ConvertFromFahr(temp=temp, destination=destination2))\n",
    "print('---------------------------------------------------')\n",
    "\n",
    "print('Fahrenheit to Reamur')\n",
    "print('Fahrenheit temperature value = ', temp)\n",
    "print('Reamur temperature value = ', ConvertFromFahr(temp=temp, destination=destination3))\n",
    "print('---------------------------------------------------')"
   ]
  }
 ],
 "metadata": {
  "kernelspec": {
   "display_name": "Python 3",
   "language": "python",
   "name": "python3"
  },
  "language_info": {
   "codemirror_mode": {
    "name": "ipython",
    "version": 3
   },
   "file_extension": ".py",
   "mimetype": "text/x-python",
   "name": "python",
   "nbconvert_exporter": "python",
   "pygments_lexer": "ipython3",
   "version": "3.8.4"
  },
  "orig_nbformat": 4,
  "vscode": {
   "interpreter": {
    "hash": "f1d84ef95e6b3140fac2756f01c561393c9e2beb61a624e5de7a07bd06698279"
   }
  }
 },
 "nbformat": 4,
 "nbformat_minor": 2
}
